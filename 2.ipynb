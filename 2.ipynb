sjdhfjhksjhdfjkhsjkafhjhsajkhfkjs
{
 "cells": [
  {
   "cell_type": "code",
   "execution_count": 26,
   "id": "33fcf714",
   "metadata": {},
   "outputs": [
    {
     "name": "stderr",
     "output_type": "stream",
     "text": [
      "[*********************100%***********************]  1 of 1 completed"
     ]
    },
    {
     "name": "stdout",
     "output_type": "stream",
     "text": [
      "Price             Open        High         Low       Close     Volume\n",
      "Ticker            TSLA        TSLA        TSLA        TSLA       TSLA\n",
      "Date                                                                 \n",
      "2024-12-09  397.609985  404.799988  378.010010  389.790009   96359200\n",
      "2024-12-10  392.679993  409.730011  390.850006  400.989990   97563600\n",
      "2024-12-11  409.700012  424.880005  402.380005  424.769989  104287600\n",
      "2024-12-12  424.839996  429.299988  415.000000  418.100006   87752200\n",
      "2024-12-13  420.000000  436.299988  415.709991  436.230011   89000200\n",
      "2024-12-16  441.089996  463.190002  436.149994  463.019989  114083800\n",
      "2024-12-17  475.899994  483.989990  457.510010  479.859985  131223000\n",
      "2024-12-18  466.500000  488.540009  427.010010  440.130005  149340800\n",
      "2024-12-19  451.880005  456.359985  420.019989  436.170013  118566100\n",
      "2024-12-20  425.510010  447.079987  417.640015  421.059998  132216200\n",
      "2024-12-23  431.000000  434.510010  415.410004  430.600006   72698100\n",
      "2024-12-24  435.899994  462.779999  435.140015  462.279999   59551800\n",
      "2024-12-26  465.160004  465.329987  451.019989  454.130005   76366400\n",
      "2024-12-27  449.519989  450.000000  426.500000  431.660004   82666800\n",
      "2024-12-30  419.399994  427.000000  415.750000  417.410004   64941000\n",
      "2024-12-31  423.790009  427.929993  402.540009  403.839996   76825100\n",
      "2025-01-02  390.100006  392.730011  373.040009  379.279999  109710700\n",
      "2025-01-03  381.480011  411.880005  379.450012  410.440002   94818400\n",
      "2025-01-06  423.309998  426.429993  401.700012  411.049988   84482192\n",
      "closing prices Ticker            TSLA\n",
      "Date                  \n",
      "2024-12-09  389.790009\n",
      "2024-12-10  400.989990\n",
      "2024-12-11  424.769989\n",
      "2024-12-12  418.100006\n",
      "2024-12-13  436.230011\n",
      "2024-12-16  463.019989\n",
      "2024-12-17  479.859985\n",
      "2024-12-18  440.130005\n",
      "2024-12-19  436.170013\n",
      "2024-12-20  421.059998\n",
      "2024-12-23  430.600006\n",
      "2024-12-24  462.279999\n",
      "2024-12-26  454.130005\n",
      "2024-12-27  431.660004\n",
      "2024-12-30  417.410004\n",
      "2024-12-31  403.839996\n",
      "2025-01-02  379.279999\n",
      "2025-01-03  410.440002\n",
      "2025-01-06  411.049988\n",
      "High-Low Pair: (Ticker\n",
      "TSLA    479.859985\n",
      "dtype: float64, Ticker\n",
      "TSLA    379.279999\n",
      "dtype: float64)\n",
      "Price Summary: {'average': Ticker\n",
      "TSLA    426.884737\n",
      "dtype: float64, 'max': Ticker\n",
      "TSLA    479.859985\n",
      "dtype: float64, 'min': Ticker\n",
      "TSLA    379.279999\n",
      "dtype: float64}\n",
      "No prices were above $250.\n"
     ]
    },
    {
     "name": "stderr",
     "output_type": "stream",
     "text": [
      "\n"
     ]
    }
   ],
   "source": [
    "import yfinance as yf\n",
    "import pandas as pd\n",
    "\n",
    "tsla_data = yf.download('TSLA', period='1mo')\n",
    "tsla_df = pd.DataFrame(tsla_data)\n",
    "print(tsla_data[['Open', 'High', 'Low', 'Close','Volume']])\n",
    "closing_prices = tsla_data['Close']\n",
    "print(\"closing prices\",closing_prices)\n",
    "high_low_pair = (closing_prices.max(), closing_prices.min())\n",
    "price_summary = {\n",
    "      \"average\": tsla_data['Close'].mean(),  \n",
    "    \"max\": tsla_data['Close'].max(),  \n",
    "    \"min\": tsla_data['Close'].min()\n",
    "    }     \n",
    "print(\"High-Low Pair:\", high_low_pair)\n",
    "print(\"Price Summary:\", price_summary)\n",
    "\n",
    "above_250_days=[] \n",
    "for i, price in enumerate(closing_prices):\n",
    "    try:\n",
    "        price = float(price)\n",
    "        if price > 250:\n",
    "            above_250_days.append(i)  \n",
    "    except ValueError:\n",
    "        continue\n",
    "if above_250_days:\n",
    "        print(above_250_days.length())\n",
    "else:\n",
    "    print(\"No prices were above $250.\")\n",
    "\n",
    "    \n",
    "\n",
    "    "
   ]
  },
  {
   "cell_type": "code",
   "execution_count": null,
   "id": "b999d314",
   "metadata": {},
   "outputs": [],
   "source": []
  }
 ],
 "metadata": {
  "kernelspec": {
   "display_name": "Python 3 (ipykernel)",
   "language": "python",
   "name": "python3"
  },
  "language_info": {
   "codemirror_mode": {
    "name": "ipython",
    "version": 3
   },
   "file_extension": ".py",
   "mimetype": "text/x-python",
   "name": "python",
   "nbconvert_exporter": "python",
   "pygments_lexer": "ipython3",
   "version": "3.9.7"
  }
 },
 "nbformat": 4,
 "nbformat_minor": 5
}
